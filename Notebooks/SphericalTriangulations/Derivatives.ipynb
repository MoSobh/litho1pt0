{
 "cells": [
  {
   "cell_type": "code",
   "execution_count": 1,
   "metadata": {},
   "outputs": [],
   "source": [
    "import gdal\n",
    "\n",
    "import os.path as path\n",
    "import stripy as stripy\n",
    "import numpy as np\n",
    "\n",
    "import cartopy\n",
    "import cartopy.crs as ccrs\n",
    "import matplotlib.pyplot as plt"
   ]
  },
  {
   "cell_type": "code",
   "execution_count": 2,
   "metadata": {},
   "outputs": [],
   "source": [
    "gtiff = gdal.Open(\"/Users/lmoresi/+Codes/Python/quagmire/Notebooks/data/ETOPO1_Ice_c_geotiff.tif\")\n",
    "\n",
    "width = gtiff.RasterXSize\n",
    "height = gtiff.RasterYSize\n",
    "gt = gtiff.GetGeoTransform()\n",
    "img = gtiff.GetRasterBand(1).ReadAsArray().T\n",
    "\n",
    "img = np.fliplr(img)\n",
    "\n",
    "imgLR = img[::10,::10]"
   ]
  },
  {
   "cell_type": "code",
   "execution_count": 3,
   "metadata": {},
   "outputs": [
    {
     "name": "stdout",
     "output_type": "stream",
     "text": [
      "8 386 393218\n"
     ]
    }
   ],
   "source": [
    "# grid0 = stripy.icosahedral_mesh(include_face_points=False, refinement_levels=0)\n",
    "# grid3 = stripy.icosahedral_mesh(include_face_points=False, refinement_levels=3)\n",
    "# gridR = stripy.icosahedral_mesh(include_face_points=False, refinement_levels=8)\n",
    "\n",
    "grid0 = stripy.triangulated_cube_mesh(refinement_levels=0)\n",
    "grid3 = stripy.triangulated_cube_mesh(refinement_levels=3)\n",
    "gridR = stripy.triangulated_cube_mesh(refinement_levels=8)\n",
    "\n",
    "print grid0.npoints, grid3.npoints, gridR.npoints"
   ]
  },
  {
   "cell_type": "code",
   "execution_count": 4,
   "metadata": {},
   "outputs": [],
   "source": [
    "dlons = np.mod(np.degrees(gridR.lons), 360.0)\n",
    "dlats = np.mod(np.degrees(gridR.lats)+90, 180.0)\n",
    "\n",
    "ilons = img.shape[0] * dlons / 360.0\n",
    "ilats = img.shape[1] * dlats / 180.0\n",
    "\n",
    "icoords = np.stack((ilons, ilats))\n",
    "\n",
    "from scipy import ndimage\n",
    "\n",
    "meshheights = ndimage.map_coordinates(img, icoords , order=3, mode='nearest').astype(np.float)"
   ]
  },
  {
   "cell_type": "code",
   "execution_count": 5,
   "metadata": {},
   "outputs": [],
   "source": [
    "A = 6.0\n",
    "B = 2.0\n",
    "\n",
    "data = np.cos(A*gridR.lons) * np.cos(B*gridR.lats)\n",
    "\n",
    "## Note the definition of the grad operator in spherical coords (lengths are shorter at high latitudes)\n",
    "\n",
    "anddlons = (-A * np.sin(A*gridR.lons) * np.cos(B*gridR.lats)) \n",
    "anddlats =  -B * np.cos(A*gridR.lons) * np.sin(B*gridR.lats)\n",
    "\n",
    "latcorr = np.cos(gridR.lats)\n",
    "valid = latcorr != 0.0\n",
    "latcorr[valid] = 1.0 / latcorr[valid]\n",
    "anddlons *= latcorr\n",
    "\n",
    "# anddlons[np.isnan(anddlons)] = 0.0"
   ]
  },
  {
   "cell_type": "code",
   "execution_count": 6,
   "metadata": {},
   "outputs": [
    {
     "ename": "AttributeError",
     "evalue": "'triangulated_cube_mesh' object has no attribute 'gradient'",
     "output_type": "error",
     "traceback": [
      "\u001b[0;31m---------------------------------------------------------------------------\u001b[0m",
      "\u001b[0;31mAttributeError\u001b[0m                            Traceback (most recent call last)",
      "\u001b[0;32m<ipython-input-6-ef1ba28c6ff1>\u001b[0m in \u001b[0;36m<module>\u001b[0;34m()\u001b[0m\n\u001b[0;32m----> 1\u001b[0;31m \u001b[0mddx\u001b[0m\u001b[0;34m,\u001b[0m \u001b[0mddy\u001b[0m\u001b[0;34m,\u001b[0m \u001b[0mddz\u001b[0m \u001b[0;34m=\u001b[0m \u001b[0mgridR\u001b[0m\u001b[0;34m.\u001b[0m\u001b[0mgradient\u001b[0m\u001b[0;34m(\u001b[0m\u001b[0mdata\u001b[0m\u001b[0;34m,\u001b[0m \u001b[0mnit\u001b[0m\u001b[0;34m=\u001b[0m\u001b[0;36m10\u001b[0m\u001b[0;34m,\u001b[0m \u001b[0mtol\u001b[0m\u001b[0;34m=\u001b[0m\u001b[0;36m0.00001\u001b[0m \u001b[0;34m)\u001b[0m\u001b[0;34m\u001b[0m\u001b[0m\n\u001b[0m",
      "\u001b[0;31mAttributeError\u001b[0m: 'triangulated_cube_mesh' object has no attribute 'gradient'"
     ]
    }
   ],
   "source": [
    "ddx, ddy, ddz = gridR.gradient(data, nit=10, tol=0.00001 )"
   ]
  },
  {
   "cell_type": "code",
   "execution_count": null,
   "metadata": {},
   "outputs": [],
   "source": [
    "ddlons, ddlats = gridR.transform_to_spherical(ddx, ddy, ddz)\n",
    "\n",
    "ddlons2, ddlats2 = stripy.spherical.dxyz2dlonlat(gridR.x, gridR.y, gridR.z, ddx, ddy, ddz)\n",
    "\n"
   ]
  },
  {
   "cell_type": "code",
   "execution_count": null,
   "metadata": {},
   "outputs": [],
   "source": [
    "ddlats2.max(), ddlons2.max(), anddlons.max()\n"
   ]
  },
  {
   "cell_type": "code",
   "execution_count": null,
   "metadata": {},
   "outputs": [],
   "source": [
    "(anddlons-ddlons2).max()"
   ]
  },
  {
   "cell_type": "code",
   "execution_count": null,
   "metadata": {
    "scrolled": false
   },
   "outputs": [],
   "source": [
    "from LavaVu import lavavu\n",
    "\n",
    "striangulationR = gridR\n",
    "striangulation0 = grid3\n",
    "\n",
    "wireframeI = striangulationR\n",
    "trianglesI = striangulationR\n",
    "\n",
    "lv = lavavu.Viewer(border=False, background=\"#FFFFFF\", resolution=[2000,1000], near=-10.0)\n",
    "\n",
    "# Core \n",
    "\n",
    "tris = lv.triangles(\"LAB\",  wireframe=False, colour=\"#999999\", opacity=1.0)\n",
    "tris.vertices(striangulation0.points * 0.95 )\n",
    "tris.indices(striangulation0.simplices)\n",
    "\n",
    "# tris3 = lv.triangles(\"datagrid\",  wireframe=False, colour=\"#77ff88\", opacity=1.0)\n",
    "# tris3.vertices(datagrid.points)\n",
    "# tris3.indices(datagrid.simplices)\n",
    "# tris3.values(data)\n",
    "# tris3.colourmap([\"#555599\",\"#995555\"])\n",
    "                           \n",
    "tris2 = lv.triangles(\"triangles\",  wireframe=False, colour=\"#77ff88\", opacity=0.5)\n",
    "tris2.vertices(trianglesI.points )\n",
    "tris2.indices(trianglesI.simplices)\n",
    "tris2.values(anddlons-ddlons2)\n",
    "#tris2.colourmap([\"(-5.0)#555555\", \"(-0.001)#FFFFFF\", \"(0.0)#779977\", \"(0.1)#99AA99\", \"(1.0)#BBDDBB\", \"(5.0)#EEFFEE\"] , logscale=False, range=[-7.0,5.0])   # Apply a built in colourmap\n",
    "tris2.colourmap(['(-1.0)#FF0000','(-0.01)#FFDDDD','(0.01)#DDDDFF', '(1.0)#0000FF'], range=[-5.0,5.0])\n",
    "tris2.colourbar()\n",
    "\n",
    "# nodes = lv.points(\"DataPoints\", pointsize=5.0, pointtype=\"shiny\", colour=\"#448080\", opacity=0.75)\n",
    "# nodes.vertices(data_xyz*1.01)\n",
    "# nodes.values(data)\n",
    "# nodes.colourmap([\"Blue\",\"Red\"])\n",
    "\n",
    "lv.window()\n",
    "\n",
    "tris.control.Checkbox(property='wireframe', label=\"Core - wireframe\")\n",
    "tris2.control.Checkbox(property='wireframe', label=\"Surface - wireframe\")\n",
    "# tris3.control.Checkbox(property='wireframe', label=\"Data - wireframe\")\n",
    "\n",
    "\n",
    "# tris2.control.show()\n",
    "\n",
    "lv.control.Range('specular', range=(0,1), step=0.1, value=0)\n",
    "lv.control.Checkbox(property='axis')\n",
    "lv.control.ObjectList()\n",
    "lv.control.show()"
   ]
  },
  {
   "cell_type": "code",
   "execution_count": null,
   "metadata": {},
   "outputs": [],
   "source": [
    "## compute global slopes\n",
    "\n",
    "ddx, ddy, ddz = gridR.gradient(meshheights/meshheights.max(), nit=10, tol=0.00001 )\n",
    "dlo, dla = stripy.spherical.dxyz2dlonlat(gridR.x, gridR.y, gridR.z, ddx, ddy, ddz)\n",
    "\n",
    "slope = np.sqrt(ddx**2+ddy**2+ddz**2)\n",
    "slope2 = np.sqrt(dla**2+dlo**2)"
   ]
  },
  {
   "cell_type": "code",
   "execution_count": null,
   "metadata": {},
   "outputs": [],
   "source": [
    "\n",
    "theta = np.arctan(slope)\n",
    "theta2 = np.arctan(slope2)"
   ]
  },
  {
   "cell_type": "code",
   "execution_count": null,
   "metadata": {},
   "outputs": [],
   "source": [
    "theta.mean()"
   ]
  },
  {
   "cell_type": "code",
   "execution_count": null,
   "metadata": {},
   "outputs": [],
   "source": [
    "from LavaVu import lavavu\n",
    "\n",
    "striangulationR = gridR\n",
    "striangulation0 = grid3\n",
    "\n",
    "wireframeI = striangulationR\n",
    "trianglesI = striangulationR\n",
    "\n",
    "lv = lavavu.Viewer(border=False, background=\"#FFFFFF\", resolution=[2000,1000], near=-10.0)\n",
    "\n",
    "# Core \n",
    "\n",
    "tris = lv.triangles(\"LAB\",  wireframe=False, colour=\"#999999\", opacity=1.0)\n",
    "tris.vertices(striangulation0.points * 0.95 )\n",
    "tris.indices(striangulation0.simplices)\n",
    "                          \n",
    "tris2 = lv.triangles(\"triangles\",  wireframe=False, colour=\"#77ff88\", opacity=0.5)\n",
    "tris2.vertices(trianglesI.points )\n",
    "tris2.indices(trianglesI.simplices)\n",
    "tris2.values(theta)\n",
    "#tris2.colourmap([\"(-5.0)#555555\", \"(-0.001)#FFFFFF\", \"(0.0)#779977\", \"(0.1)#99AA99\", \"(1.0)#BBDDBB\", \"(5.0)#EEFFEE\"] , logscale=False, range=[-7.0,5.0])   # Apply a built in colourmap\n",
    "tris2.colourmap(['#FFFFEE','(1.2)#DDDDFF', '#0000FF'])\n",
    "tris2.colourbar()\n",
    "\n",
    "# nodes = lv.points(\"DataPoints\", pointsize=5.0, pointtype=\"shiny\", colour=\"#448080\", opacity=0.75)\n",
    "# nodes.vertices(data_xyz*1.01)\n",
    "# nodes.values(data)\n",
    "# nodes.colourmap([\"Blue\",\"Red\"])\n",
    "\n",
    "lv.window()\n",
    "\n",
    "tris.control.Checkbox(property='wireframe', label=\"Core - wireframe\")\n",
    "tris2.control.Checkbox(property='wireframe', label=\"Surface - wireframe\")\n",
    "# tris3.control.Checkbox(property='wireframe', label=\"Data - wireframe\")\n",
    "\n",
    "\n",
    "# tris2.control.show()\n",
    "\n",
    "lv.control.Range('specular', range=(0,1), step=0.1, value=0)\n",
    "lv.control.Checkbox(property='axis')\n",
    "lv.control.ObjectList()\n",
    "lv.control.show()"
   ]
  }
 ],
 "metadata": {
  "kernelspec": {
   "display_name": "Python 2",
   "language": "python",
   "name": "python2"
  },
  "language_info": {
   "codemirror_mode": {
    "name": "ipython",
    "version": 2
   },
   "file_extension": ".py",
   "mimetype": "text/x-python",
   "name": "python",
   "nbconvert_exporter": "python",
   "pygments_lexer": "ipython2",
   "version": "2.7.14"
  }
 },
 "nbformat": 4,
 "nbformat_minor": 1
}
